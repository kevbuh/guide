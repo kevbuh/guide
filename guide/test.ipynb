{
 "cells": [
  {
   "cell_type": "code",
   "execution_count": 4,
   "metadata": {},
   "outputs": [],
   "source": [
    "from proof_engine import proof_engine"
   ]
  },
  {
   "cell_type": "code",
   "execution_count": 5,
   "metadata": {},
   "outputs": [],
   "source": [
    "expr=\"(x and x) or (x and x)\" \n",
    "gpt = True\n",
    "tot = True\n",
    "num_steps = 3\n",
    "debug = False"
   ]
  },
  {
   "cell_type": "code",
   "execution_count": 6,
   "metadata": {},
   "outputs": [
    {
     "name": "stdout",
     "output_type": "stream",
     "text": [
      "USING TREE OF THOUGHT\n",
      "T:1/3\n",
      "new_expr='(x and x or x)', new_law='Idempotent Law', expr_history=['(x and x) or (x and x)'], law_history=[]\n",
      "new_expr='(x and x or x)', new_law='Idempotent Law', expr_history=['(x and x) or (x and x)'], law_history=[]\n",
      "new_expr='((x and x or x) and (x and x or x))', new_law='Distributive Law', expr_history=['(x and x) or (x and x)'], law_history=[]\n",
      "T:2/3\n",
      "new_expr='x', new_law='Idempotent Law', expr_history=['(x and x) or (x and x)', '(x and x or x)'], law_history=['Idempotent Law']\n",
      "new_expr='((x or x) and (x or x))', new_law='Distributive Law', expr_history=['(x and x) or (x and x)', '(x and x or x)'], law_history=['Idempotent Law']\n",
      "new_expr='x', new_law='Idempotent Law', expr_history=['(x and x) or (x and x)', '(x and x or x)'], law_history=['Idempotent Law']\n",
      "new_expr='x', new_law='Idempotent Law', expr_history=['(x and x) or (x and x)', '(x and x or x)'], law_history=['Idempotent Law']\n",
      "new_expr='(x and x)', new_law='Idempotent Law', expr_history=['(x and x) or (x and x)', '(x and x or x)'], law_history=['Idempotent Law']\n",
      "new_expr='(x and x)', new_law='Idempotent Law', expr_history=['(x and x) or (x and x)', '(x and x or x)'], law_history=['Idempotent Law']\n",
      "new_expr='((((x or x) and (x or x)) and x or ((x or x) and (x or x))) and (((x or x) and\\n    (x or x)) and x or x and x))', new_law='Distributive Law', expr_history=['(x and x) or (x and x)', '((x and x or x) and (x and x or x))'], law_history=['Distributive Law']\n",
      "new_expr='(((x or x and x) and x or (x or x and x)) and ((x or x and x) and x or x and x)\\n    )', new_law='Distributive Law', expr_history=['(x and x) or (x and x)', '((x and x or x) and (x and x or x))'], law_history=['Distributive Law']\n",
      "new_expr='(x and x or x)', new_law='Idempotent Law', expr_history=['(x and x) or (x and x)', '((x and x or x) and (x and x or x))'], law_history=['Distributive Law']\n",
      "T:3/3\n",
      "Expression 'x' cannot be further applied onto laws\n",
      "\n",
      "new_expr='(x or x)', new_law='Idempotent Law', expr_history=['(x and x) or (x and x)', '(x and x or x)', '((x or x) and (x or x))'], law_history=['Idempotent Law', 'Distributive Law']\n",
      "new_expr='(x or x)', new_law='Idempotent Law', expr_history=['(x and x) or (x and x)', '(x and x or x)', '((x or x) and (x or x))'], law_history=['Idempotent Law', 'Distributive Law']\n",
      "new_expr='(x or x)', new_law='Idempotent Law', expr_history=['(x and x) or (x and x)', '(x and x or x)', '((x or x) and (x or x))'], law_history=['Idempotent Law', 'Distributive Law']\n",
      "Expression 'x' cannot be further applied onto laws\n",
      "\n",
      "Expression 'x' cannot be further applied onto laws\n",
      "\n",
      "new_expr='x', new_law='Idempotent Law', expr_history=['(x and x) or (x and x)', '(x and x or x)', '(x and x)'], law_history=['Idempotent Law', 'Idempotent Law']\n",
      "new_expr='x', new_law='Idempotent Law', expr_history=['(x and x) or (x and x)', '(x and x or x)', '(x and x)'], law_history=['Idempotent Law', 'Idempotent Law']\n",
      "new_expr='x', new_law='Idempotent Law', expr_history=['(x and x) or (x and x)', '(x and x or x)', '(x and x)'], law_history=['Idempotent Law', 'Idempotent Law']\n",
      "new_expr='x', new_law='Idempotent Law', expr_history=['(x and x) or (x and x)', '(x and x or x)', '(x and x)'], law_history=['Idempotent Law', 'Idempotent Law']\n",
      "new_expr='x', new_law='Idempotent Law', expr_history=['(x and x) or (x and x)', '(x and x or x)', '(x and x)'], law_history=['Idempotent Law', 'Idempotent Law']\n",
      "new_expr='x', new_law='Idempotent Law', expr_history=['(x and x) or (x and x)', '(x and x or x)', '(x and x)'], law_history=['Idempotent Law', 'Idempotent Law']\n",
      "new_expr='((((x and x or x) and (x and x or ((x or x) and x or (x or x) and x))) and\\n    (((x or x) and x or (x or x)) and ((x or x) and x or x)) or ((x and x or\\n    x) and (x and x or ((x or x) and x or (x or x) and x)))) and (((x and x or\\n    x) and (x and x or ((x or x) and x or (x or x) and x))) and (((x or x) and\\n    x or (x or x)) and ((x or x) and x or x)) or x and (((x or x) and x or\\n    (x or x)) and ((x or x) and x or x))))', new_law='Distributive Law', expr_history=['(x and x) or (x and x)', '((x and x or x) and (x and x or x))', '((((x or x) and (x or x)) and x or ((x or x) and (x or x))) and (((x or x) and\\n    (x or x)) and x or x and x))'], law_history=['Distributive Law', 'Distributive Law']\n",
      "new_expr='(((x and x or x and ((x or x) and x or (x or x) and x)) and ((x or x) and x or\\n    (x or x) and x) or (x and x or x and ((x or x) and x or (x or x) and x)\\n    )) and ((x and x or x and ((x or x) and x or (x or x) and x)) and ((x or\\n    x) and x or (x or x) and x) or x and ((x or x) and x or (x or x) and x)))', new_law='Distributive Law', expr_history=['(x and x) or (x and x)', '((x and x or x) and (x and x or x))', '((((x or x) and (x or x)) and x or ((x or x) and (x or x))) and (((x or x) and\\n    (x or x)) and x or x and x))'], law_history=['Distributive Law', 'Distributive Law']\n",
      "new_expr='(((x and x or x and ((x or x) and x or (x or x) and x)) and ((x or x) and x or\\n    (x or x) and x) or (x and x or x and ((x or x) and x or (x or x) and x)\\n    )) and ((x and x or x and ((x or x) and x or (x or x) and x)) and ((x or\\n    x) and x or (x or x) and x) or x and ((x or x) and x or (x or x) and x)))', new_law='Distributive Law', expr_history=['(x and x) or (x and x)', '((x and x or x) and (x and x or x))', '((((x or x) and (x or x)) and x or ((x or x) and (x or x))) and (((x or x) and\\n    (x or x)) and x or x and x))'], law_history=['Distributive Law', 'Distributive Law']\n",
      "new_expr='(((x or (x and (x and x) or x) and (x and (x and x) or x)) and x or (x or (\\n    x and (x and x) or x) and (x and (x and x) or x))) and ((x or (x and (x and\\n    x) or x) and (x and (x and x) or x)) and x or (x or (x and (x and x) or\\n    x) and (x and (x and x) or x))))', new_law='Idempotent Law', expr_history=['(x and x) or (x and x)', '((x and x or x) and (x and x or x))', '(((x or x and x) and x or (x or x and x)) and ((x or x and x) and x or x and x)\\n    )'], law_history=['Distributive Law', 'Distributive Law']\n",
      "new_expr='((x and x or (x and x or x) and x) and ((x and x or x) or x and (x and x or x))\\n    )', new_law='Commutative Law', expr_history=['(x and x) or (x and x)', '((x and x or x) and (x and x or x))', '(((x or x and x) and x or (x or x and x)) and ((x or x and x) and x or x and x)\\n    )'], law_history=['Distributive Law', 'Distributive Law']\n",
      "new_expr='((x and x or x and (x and x or x)) and (x and x) or (x and x or x and (x and\\n    x or x)) and (x or x and (x and x or x)))', new_law='Distributive Law', expr_history=['(x and x) or (x and x)', '((x and x or x) and (x and x or x))', '(((x or x and x) and x or (x or x and x)) and ((x or x and x) and x or x and x)\\n    )'], law_history=['Distributive Law', 'Distributive Law']\n",
      "new_expr='((x or x) and (x or x))', new_law='Distributive Law', expr_history=['(x and x) or (x and x)', '((x and x or x) and (x and x or x))', '(x and x or x)'], law_history=['Distributive Law', 'Idempotent Law']\n",
      "new_expr='x', new_law='Idempotent Law', expr_history=['(x and x) or (x and x)', '((x and x or x) and (x and x or x))', '(x and x or x)'], law_history=['Distributive Law', 'Idempotent Law']\n",
      "new_expr='x', new_law='Idempotent Law', expr_history=['(x and x) or (x and x)', '((x and x or x) and (x and x or x))', '(x and x or x)'], law_history=['Distributive Law', 'Idempotent Law']\n",
      "----------FINAL PROOF----------\n",
      "Proof:\n",
      "(x and x) or (x and x)                Idempotent Law\n",
      "≡ (x and x or x)                      Idempotent Law\n",
      "≡ x\n",
      "----------FINAL PROOF----------\n",
      "#1\n",
      "Proof:\n",
      "(x and x) or (x and x)                Idempotent Law\n",
      "≡ (x and x or x)                      Idempotent Law\n",
      "≡ x\n",
      "----------FINAL PROOF----------\n",
      "#2\n",
      "Proof:\n",
      "(x and x) or (x and x)                Idempotent Law\n",
      "≡ (x and x or x)                      Idempotent Law\n",
      "≡ x\n"
     ]
    }
   ],
   "source": [
    "q, proof = proof_engine(expr, max_num_steps=num_steps, debug=debug, naive=not tot, use_claude=not gpt)"
   ]
  },
  {
   "cell_type": "code",
   "execution_count": 4,
   "metadata": {},
   "outputs": [
    {
     "name": "stdout",
     "output_type": "stream",
     "text": [
      "USING CHAIN OF THOUGHT\n",
      "\n",
      "----------PROOF STEP #1----------\n",
      "\n",
      "CURRENT EXPR: (x and x) or (x and x)\n",
      "\n",
      "Prompt:\n",
      "'''ORIGINAL INPUT EXPRESSION: (x and x) or (x and x)\n",
      "Choose ONE of the following that you think will best help you solve if this statement is a tautology. Look at all of the laws. Generate thoughts about which logical is best, then output the selection of what law is best.\n",
      "#0., 'Commutative Law', '(x and x or x and x)'\n",
      "#1., 'Commutative Law', '(x and x or x and x)'\n",
      "#2., 'Commutative Law', '(x and x or x and x)'\n",
      "#3., 'Distributive Law', '((x and x or x) and (x and x or x))'\n",
      "#4., 'Idempotent Law', '(x and x or x)'\n",
      "#5., 'Idempotent Law', '(x or x)'\n",
      "#6., 'Idempotent Law', '(x or x)'\n",
      "Respond with your best output like this at the VERY end:\n",
      "LLM CHOICE: #?. (? law)'''\n",
      "\n",
      "LLM Response:\n",
      "'''To determine if the expression \"(x and x) or (x and x)\" is a tautology, we can simplify it by using the Idempotent Law. The Idempotent Law states that \"x or x\" is equivalent to \"x\" and that \"x and x\" is equivalent to \"x\".\n",
      "\n",
      "Applying the Idempotent Law to the given expression:\n",
      "(x and x) or (x and x) simplifies to x or x\n",
      "\n",
      "Therefore, the simplified form of the original expression is \"x or x\".\n",
      "\n",
      "LLM CHOICE: #4. (Idempotent Law)'''\n",
      "\n",
      "----------PROOF STEP #2----------\n",
      "\n",
      "CURRENT EXPR: (x and x or x)\n",
      "\n",
      "Prompt:\n",
      "'''ORIGINAL INPUT EXPRESSION: (x and x or x)\n",
      "Choose ONE of the following that you think will best help you solve if this statement is a tautology. Look at all of the laws. Generate thoughts about which logical is best, then output the selection of what law is best.\n",
      "#0., 'Commutative Law', '(x or x and x)'\n",
      "#1., 'Commutative Law', '(x or x and x)'\n",
      "#2., 'Distributive Law', '((x or x) and (x or x))'\n",
      "#3., 'Idempotent Law', '(x and (x or x))'\n",
      "#4., 'Idempotent Law', '(x and x)'\n",
      "#5., 'Idempotent Law', 'x'\n",
      "Respond with your best output like this at the VERY end:\n",
      "LLM CHOICE: #?. (? law)'''\n",
      "\n",
      "LLM Response:\n",
      "'''To determine if the statement `(x and x or x)` is a tautology, we can simplify it using the laws of logic. \n",
      "\n",
      "Given the original expression: `(x and x or x)`\n",
      "\n",
      "Let's simplify it using the Distributive Law: \n",
      "`(x and x) or (x)`\n",
      "This simplifies to:\n",
      "`x or x`\n",
      "\n",
      "Applying the Idempotent Law, we know that `x or x` is equivalent to `x`. \n",
      "\n",
      "Therefore, the simplified form of the original expression `(x and x or x)` is `x`. \n",
      "\n",
      "Therefore, the statement is not a tautology.\n",
      "\n",
      "LLM CHOICE: #5. (Idempotent Law 'x')'''\n",
      "\n",
      "----------PROOF STEP #3----------\n",
      "\n",
      "CURRENT EXPR: x\n",
      "Expression 'x' cannot be further applied onto laws\n",
      "\n",
      "----------FINAL PROOF----------\n",
      "Proof:\n",
      "(x and x) or (x and x)                Idempotent Law\n",
      "≡ (x and x or x)                      Idempotent Law\n",
      "≡ x\n"
     ]
    }
   ],
   "source": [
    "proof_engine(expr, max_num_steps=num_steps, debug=debug, naive=tot, use_claude=not gpt)"
   ]
  },
  {
   "cell_type": "code",
   "execution_count": null,
   "metadata": {},
   "outputs": [],
   "source": []
  }
 ],
 "metadata": {
  "kernelspec": {
   "display_name": "venv",
   "language": "python",
   "name": "python3"
  },
  "language_info": {
   "codemirror_mode": {
    "name": "ipython",
    "version": 3
   },
   "file_extension": ".py",
   "mimetype": "text/x-python",
   "name": "python",
   "nbconvert_exporter": "python",
   "pygments_lexer": "ipython3",
   "version": "3.11.3"
  }
 },
 "nbformat": 4,
 "nbformat_minor": 2
}
